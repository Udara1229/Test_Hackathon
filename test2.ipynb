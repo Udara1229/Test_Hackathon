{
 "cells": [
  {
   "cell_type": "code",
   "execution_count": 6,
   "id": "8369c976",
   "metadata": {},
   "outputs": [
    {
     "name": "stdout",
     "output_type": "stream",
     "text": [
      "Requirement already satisfied: pytesseract in c:\\anaconda\\lib\\site-packages (0.3.7)\n",
      "Requirement already satisfied: Pillow in c:\\anaconda\\lib\\site-packages (from pytesseract) (8.2.0)\n",
      "Note: you may need to restart the kernel to use updated packages.\n"
     ]
    }
   ],
   "source": [
    "pip install pytesseract"
   ]
  },
  {
   "cell_type": "code",
   "execution_count": 13,
   "id": "b72f3f6f",
   "metadata": {},
   "outputs": [],
   "source": [
    "import pytesseract\n",
    "import cv2"
   ]
  },
  {
   "cell_type": "code",
   "execution_count": 14,
   "id": "da0c7f31",
   "metadata": {},
   "outputs": [],
   "source": [
    "pytesseract.pytesseract.tesseract_cmd = r'C:\\Program Files\\Tesseract-OCR\\tesseract.exe'"
   ]
  },
  {
   "cell_type": "code",
   "execution_count": 15,
   "id": "9f42b89d",
   "metadata": {},
   "outputs": [],
   "source": [
    "img=cv2.imread(\"C:/Users/UVINI BALASURIYA/Downloads/stat-circle-workshop-test-main/stat-circle-workshop-test-main/pytesseact_demo/demo_code/images/002.png\")"
   ]
  },
  {
   "cell_type": "code",
   "execution_count": 17,
   "id": "46591314",
   "metadata": {},
   "outputs": [
    {
     "name": "stdout",
     "output_type": "stream",
     "text": [
      "International Journal of Applied Information Systems (AIS) ~ ISSN : 2249-0868\n",
      "Foundation of Computer Science FCS, New York, USA\n",
      "\n",
      "Volume 7— No. 1, April 2014 — wwwjjais.org\n",
      "\n",
      "Content Authentication of English Text via Internet using\n",
      "Zero Watermarking Technique and Markov Model\n",
      "\n",
      "Fadl M. Ba-Alwi\n",
      "Associate professor, Faculty of\n",
      "‘Computer and Information\n",
      "Technology, Sana'a University,\n",
      "Yemen, P.O.Box 1247\n",
      "\n",
      "Fahd N. Al-Wesabi\n",
      "PhD Candidate, Faculty of\n",
      "Engineering, SRTM University,\n",
      "Nanded, INDIA, Assistant\n",
      "teacher, Department of IT,\n",
      "\n",
      "Mokhtar M. Ghilan\n",
      "Assistant professor, Information\n",
      "‘Systems Department, Faculty\n",
      "of Computer and Information\n",
      "Technology, Sana'a University,\n",
      "\n",
      "ABSTRACT\n",
      "\n",
      "In the study of content authentication and tamper detection of\n",
      "digital text documents, there are very limited techniques\n",
      "available for content authentication of text documents using\n",
      "digital watermarking techniques. A novel intelligent text zero\n",
      "watermarking approach based on probabilistic patterns has\n",
      "been proposed in this paper for content authentication and\n",
      "tamper detection of English text documents. In the proposed\n",
      "approach, Markov model of order THREE and letter-based\n",
      "‘was constructed and abbreviated as LNMZW3 for text\n",
      "analysis and utilizes the interrelationship between contents of\n",
      "xziven text to generate the watermark. However, we can extract\n",
      "this watermark later using extraction and detection algorithms\n",
      "to identify the status of text document such as authentic, or\n",
      "tampered, The proposed approach was implemented using\n",
      "PHP Programming language with Net Beans IDE 7.0.\n",
      "Furthermore, the effectiveness and feasibility of our\n",
      "LNMZW3 approach has proved and compared with other\n",
      "recent approaches with experiments using five datasets of\n",
      "varying lengths and different volumes of attacks. Results\n",
      "show that the proposed approach is always detects tampering.\n",
      "attacks occurred randomly on text even when the tampering\n",
      "volume is low, mid or high, Comparative results with the\n",
      "recent approaches shows that the our LNMZW3 approach\n",
      "provides added value under random insertion and deletion\n",
      "attacks in terms of performance, watermark robustness and\n",
      "‘watermark security. However, it is provide worst\n",
      "‘enhancement under reorder attacks.\n",
      "\n",
      "General Terms\n",
      "Digital Watermarking, Watermark Robustness, Information\n",
      "Hiding, Probabilistic Patterns\n",
      "\n",
      "Keywords\n",
      "Markov Model, Content Authentication, Tampering\n",
      "Detection,\n",
      "\n",
      "1. INTRODUCTION\n",
      "\n",
      "With the increasing use of intemet, e-commerce, and other\n",
      "efficient communication technologies, the copyright\n",
      "protection and authentication of digital contents, have gained\n",
      "‘great importance. Most of these digital contents are in text\n",
      "form such as email, websites, chats, e-commerce, eBooks,\n",
      "news, and short messaging systems/services (SMS) [1].\n",
      "\n",
      " \n",
      "\n",
      "‘These text documents may be tempered by malicious\n",
      "attackers, and the modified data can lead to fatal wrong\n",
      "decision and transaction disputes [2].\n",
      "\n",
      "Yemen Faculty of Computing and IT,\n",
      "\n",
      "UST, Sana'a, Yemen\n",
      "\n",
      "Content authentication and tamper detection of digital image,\n",
      "audio, and video has been of great interest to the researchers.\n",
      "\n",
      "Recently, copyright protection, content authentication, and\n",
      "tamper detection of text document attracted the interest of\n",
      "researchers. Moreover, during the last decade, the research on\n",
      "text watermarking schemes is mainly focused on issues of\n",
      "copyright protection, but gave less attention on content\n",
      "authentication, integrity verification, and tamper detection [4]\n",
      "\n",
      " \n",
      "\n",
      "Various techniques have been proposed for copyright\n",
      "protection, authentication, and tamper detection for digital\n",
      "text documents. Digital Watermarking (DWM) techniques are\n",
      "considered as the most powerful solutions to most of these\n",
      "problems.\n",
      "\n",
      "‘The digital watermarking techniques have emerged as a\n",
      "solution to breaches of copyright protection, tampering\n",
      "detection, and content authentication of digital media\n",
      "Researchers have proposed various watermarking approaches\n",
      "for images, audio, and video. However, watermarking\n",
      "approaches for text is very inadequate. The reason behind is\n",
      "the difficulty to watermark text,\n",
      "\n",
      "Traditional text watermarking techniques for tampering\n",
      "detection and text authentication such as format-based\n",
      "content-based, and image-based have a number of limitations,\n",
      "In other words, they are not applicable under random\n",
      "tampering attacks on all types of texts, and they need to use\n",
      "some transformations or modifications on contents of the text\n",
      "document to embed watermark information within the original\n",
      "text document itself which results in text capacity, quality,\n",
      "‘meaning, and value degradation,\n",
      "\n",
      " \n",
      "\n",
      "‘Text watermarking algorithms such as Word Length Zero-\n",
      "Watermarking, Non-Vowel ASCII Characters Zero-\n",
      "Watermarking, and content based Zero-Watermarking are not\n",
      "applicable under random tampering attack to all types of text\n",
      "documents. ‘These algorithms are restricted to only\n",
      "alphabetical watermarks, which means they are not applicable\n",
      "to specialized texts such as legal documents, web contents,\n",
      "and documents containing financial, accounting, and\n",
      "mathematical notations. All makes these algorithms\n",
      "impractical. Furthermore, text watermarking algorithms using\n",
      "binary text image are not robust against retyping attacks. The\n",
      "text watermarking methods based on semantics are language\n",
      "dependent and do not provide a complete practical solution\n",
      "for all types of texts.\n",
      "\n",
      "‘The English text zero watermarking algorithm based on the\n",
      "probabilistic weight of Markov model presented in [24] has a\n",
      "number of limitations in that it is not applicable under all\n",
      "tampering attacks to all type of documents. However, we can\n",
      "\n",
      "25\n",
      "\f",
      "\n"
     ]
    }
   ],
   "source": [
    "text=pytesseract.image_to_string(img)\n",
    "print(text)"
   ]
  },
  {
   "cell_type": "code",
   "execution_count": 18,
   "id": "e26ff643",
   "metadata": {},
   "outputs": [],
   "source": [
    "file = open('output_perferct.txt','a') # write to a file\n",
    "file.write(text)\n",
    "file.close()"
   ]
  },
  {
   "cell_type": "code",
   "execution_count": 19,
   "id": "cbfd2b93",
   "metadata": {},
   "outputs": [],
   "source": [
    "img2 = cv2.imread(\"C:/Users/UVINI BALASURIYA/Downloads/stat-circle-workshop-test-main/stat-circle-workshop-test-main/pytesseact_demo/demo_code/images/006.jpg\") #read an image"
   ]
  },
  {
   "cell_type": "code",
   "execution_count": 20,
   "id": "4f2d3db8",
   "metadata": {},
   "outputs": [
    {
     "name": "stdout",
     "output_type": "stream",
     "text": [
      "p= UNION *S AWK\n",
      "\n",
      "If undelivered please return to\n",
      "\n",
      "Union Bank of Colombo PLC\n",
      "64, Galle Road, Colombo 3, S¥\n",
      "4 237 4100 a WIAA IO\n",
      "\n",
      "i Lanka.\n",
      "nb.com\n",
      "\n",
      "© +941\n",
      "\n",
      "ai\n",
      "\n",
      "  \n",
      "  \n",
      "\n",
      "mt i ~\n",
      "=~ oe we =\n",
      "\n",
      "sn eg\n",
      "\n",
      " \n",
      "\n",
      "~\n",
      "\n",
      "NE ag nna arcana\n",
      "\n",
      "neice “ae iceeeee TR ES\n",
      "\n",
      "aaa ata: ee\n",
      "\n",
      " \n",
      "\n",
      "ik IS.\n",
      "cuenta saint noe nol o- abeay “\n",
      "a\n",
      "S &\n",
      "© — Say er\n",
      "\f",
      "\n"
     ]
    }
   ],
   "source": [
    "text = pytesseract.image_to_string(img2)\n",
    "print(text)\n"
   ]
  },
  {
   "cell_type": "code",
   "execution_count": 21,
   "id": "8a676048",
   "metadata": {},
   "outputs": [],
   "source": [
    "# resizing the image\n",
    "# it's recommended if you’re working with images that have a DPI of less than 300 dpi (dots per inch)\n",
    "img2= cv2.resize(img2,None, fx=.5, fy=0.5)"
   ]
  },
  {
   "cell_type": "code",
   "execution_count": 22,
   "id": "e0d45ae5",
   "metadata": {},
   "outputs": [],
   "source": [
    "#convert to gray scale\n",
    "gray = cv2.cvtColor(img2, cv2.COLOR_BGR2GRAY)\n"
   ]
  },
  {
   "cell_type": "code",
   "execution_count": 23,
   "id": "bde11bf2",
   "metadata": {},
   "outputs": [
    {
     "name": "stdout",
     "output_type": "stream",
     "text": [
      "p= UNIONS AWK\n",
      "\n",
      "If undelivered please return to\n",
      "\n",
      "Union Bank of Colombo PLC\n",
      "64, Galle Road, Colombo 3, srila\n",
      "\n",
      "es a4 19227 410° © Wwww.w\n",
      "\n",
      "nka.\n",
      "nionb com\n",
      "\n",
      " \n",
      "\f",
      "\n"
     ]
    }
   ],
   "source": [
    "text2= pytesseract.image_to_string(gray)\n",
    "print(text2)\n"
   ]
  },
  {
   "cell_type": "code",
   "execution_count": 24,
   "id": "e59d2c94",
   "metadata": {},
   "outputs": [],
   "source": [
    "#still some wroeds are wiered.lets try adaptive thresholding\n",
    "adaptive_threshold = cv2.adaptiveThreshold(gray,255, cv2.ADAPTIVE_THRESH_GAUSSIAN_C,cv2.THRESH_BINARY ,85, 11 )\n"
   ]
  },
  {
   "cell_type": "code",
   "execution_count": 25,
   "id": "98c959e5",
   "metadata": {},
   "outputs": [
    {
     "name": "stdout",
     "output_type": "stream",
     "text": [
      " \n",
      "\n",
      " \n",
      "\n",
      "os UNION BANS\n",
      "\n",
      "if undelivered please return tor\n",
      "\n",
      "Union Bank of Colombo PLC\n",
      "64, Galle Road, Colombo 3, Sri Lanka-\n",
      "\n",
      "© +9411 2374100 © WWW.UNIOND.com\n",
      "\n",
      " \n",
      "\f",
      "\n"
     ]
    }
   ],
   "source": [
    "text2= pytesseract.image_to_string(adaptive_threshold)\n",
    "print(text2)\n"
   ]
  },
  {
   "cell_type": "code",
   "execution_count": 26,
   "id": "e14431c7",
   "metadata": {},
   "outputs": [
    {
     "name": "stdout",
     "output_type": "stream",
     "text": [
      " \n",
      "\n",
      " \n",
      "\n",
      "B= UNION BANS\n",
      "\n",
      "if undelivered please return tor\n",
      "\n",
      "Union Bank of Colombo PLC\n",
      "64, Galle Road, Colombo 3, Sri Lanka-\n",
      "\n",
      "© +9411 2374100 © WW W.UNIOND.com\n",
      "\n",
      " \n",
      "\f",
      "\n"
     ]
    }
   ],
   "source": [
    "#still some wroeds are wiered.lets try adaptive thresholding\n",
    "adaptive_threshold = cv2.adaptiveThreshold(gray,255, cv2.ADAPTIVE_THRESH_GAUSSIAN_C,cv2.THRESH_BINARY ,91, 11 )\n",
    "text2= pytesseract.image_to_string(adaptive_threshold)\n",
    "print(text2)\n"
   ]
  },
  {
   "cell_type": "code",
   "execution_count": null,
   "id": "0f6b4695",
   "metadata": {},
   "outputs": [],
   "source": []
  },
  {
   "cell_type": "code",
   "execution_count": null,
   "id": "a61ec990",
   "metadata": {},
   "outputs": [],
   "source": []
  },
  {
   "cell_type": "code",
   "execution_count": null,
   "id": "ffd1745b",
   "metadata": {},
   "outputs": [],
   "source": []
  }
 ],
 "metadata": {
  "kernelspec": {
   "display_name": "Python 3",
   "language": "python",
   "name": "python3"
  },
  "language_info": {
   "codemirror_mode": {
    "name": "ipython",
    "version": 3
   },
   "file_extension": ".py",
   "mimetype": "text/x-python",
   "name": "python",
   "nbconvert_exporter": "python",
   "pygments_lexer": "ipython3",
   "version": "3.8.8"
  }
 },
 "nbformat": 4,
 "nbformat_minor": 5
}
